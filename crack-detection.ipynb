{
 "cells": [
  {
   "cell_type": "code",
   "execution_count": 64,
   "metadata": {},
   "outputs": [],
   "source": [
    "import os\n",
    "import random\n",
    "import numpy as np\n",
    "import matplotlib as plt\n",
    "import tensorflow as tf\n",
    "from tensorflow import keras\n",
    "from keras.models import Sequential\n",
    "from keras.layers import Dense\n",
    "from keras.activations import linear, relu, sigmoid\n",
    "from sklearn.model_selection import train_test_split\n",
    "from PIL import Image, ImageOps\n",
    "from IPython.display import display"
   ]
  },
  {
   "attachments": {},
   "cell_type": "markdown",
   "metadata": {},
   "source": [
    "Original dataset consists of two folders, each with 15,000 images. I used the `ulimit -n` and `ls | shuf -n 1000 | xargs -I {} cp \"{}\" ~target/` command to randomly pick 1000 images from each folder. They are stored in `negative-samples` and `positive-samples`"
   ]
  },
  {
   "cell_type": "code",
   "execution_count": 20,
   "metadata": {},
   "outputs": [],
   "source": [
    "d1, d2 = 'data/negative-samples', 'data/positive-samples'\n",
    "negative_images, positive_images = [], []\n",
    "\n",
    "filenames1 = os.listdir(d1)\n",
    "for filename in filenames1:\n",
    "    \n",
    "    if filename.endswith(\".jpg\"):\n",
    "            \n",
    "            img = Image.open(os.path.join(d1, filename))\n",
    "            \n",
    "            # resize image to 128x128 pixels\n",
    "            img = ImageOps.fit(img, (128,128), method=Image.LANCZOS)\n",
    "            # grayscale image\n",
    "            img = ImageOps.grayscale(img)\n",
    "            \n",
    "            negative_images.append(img)\n",
    "\n",
    "filenames2 = os.listdir(d2)\n",
    "for filename in filenames2:\n",
    "    \n",
    "    if filename.endswith(\".jpg\"):\n",
    "            \n",
    "            img = Image.open(os.path.join(d2, filename))\n",
    "            img = ImageOps.fit(img, (128,128), method=Image.LANCZOS)\n",
    "            img = ImageOps.grayscale(img)\n",
    "            \n",
    "            positive_images.append(img)"
   ]
  },
  {
   "cell_type": "code",
   "execution_count": 22,
   "metadata": {},
   "outputs": [
    {
     "name": "stdout",
     "output_type": "stream",
     "text": [
      "1000\n",
      "1000\n"
     ]
    }
   ],
   "source": [
    "print(len(negative_images))\n",
    "print(len(positive_images))"
   ]
  },
  {
   "cell_type": "code",
   "execution_count": 23,
   "metadata": {},
   "outputs": [],
   "source": [
    "# shuffle the images\n",
    "random.shuffle(negative_images)\n",
    "random.shuffle(positive_images)"
   ]
  },
  {
   "cell_type": "code",
   "execution_count": 61,
   "metadata": {},
   "outputs": [
    {
     "data": {
      "image/png": "[encoded data removed]",
      "text/plain": [
       "<PIL.Image.Image image mode=L size=128x128>"
      ]
     },
     "metadata": {},
     "output_type": "display_data"
    },
    {
     "data": {
      "image/png": "[encoded data removed]",
      "text/plain": [
       "<PIL.Image.Image image mode=L size=128x128>"
      ]
     },
     "metadata": {},
     "output_type": "display_data"
    }
   ],
   "source": [
    "display(negative_images[0])     # first negative example\n",
    "display(positive_images[0])     # first positive example"
   ]
  },
  {
   "cell_type": "markdown",
   "metadata": {},
   "source": [
    "Now we turn these images into numpy arrays."
   ]
  },
  {
   "cell_type": "code",
   "execution_count": 72,
   "metadata": {},
   "outputs": [
    {
     "name": "stdout",
     "output_type": "stream",
     "text": [
      "Shape of X: (2000, 128, 128)\n"
     ]
    },
    {
     "data": {
      "text/plain": [
       "1000"
      ]
     },
     "execution_count": 72,
     "metadata": {},
     "output_type": "execute_result"
    }
   ],
   "source": [
    "# X_n = np.stack([np.array(img) for img in negative_images])\n",
    "# X_p = np.stack([np.array(img2) for img2 in positive_images])\n",
    "# X = np.vstack((X_n, X_p))\n",
    "# print(\"Shape of X:\", X.shape)\n",
    "\n",
    "# # first 1000 images are negative, and remaining 1000 images are positive\n",
    "# y_n = [0 for i in range(1000)]\n",
    "# y_p = [1 for j in range(1000)]\n",
    "# # print(\"Length of y:\", len(y))\n",
    "# len(y_p)"
   ]
  },
  {
   "cell_type": "code",
   "execution_count": 106,
   "metadata": {},
   "outputs": [
    {
     "name": "stdout",
     "output_type": "stream",
     "text": [
      "Shape of X: (2000, 128, 128)\n",
      "Lenght of df: 2000\n",
      "First element in df:\n",
      " [0, array([[163, 161, 162, ..., 161, 162, 161],\n",
      "       [163, 160, 162, ..., 160, 161, 160],\n",
      "       [162, 160, 161, ..., 159, 160, 159],\n",
      "       ...,\n",
      "       [156, 153, 150, ..., 155, 155, 156],\n",
      "       [150, 147, 144, ..., 155, 154, 154],\n",
      "       [145, 143, 143, ..., 154, 153, 153]], dtype=uint8)]\n"
     ]
    }
   ],
   "source": [
    "X_n = np.stack([np.array(img) for img in negative_images])\n",
    "X_p = np.stack([np.array(img2) for img2 in positive_images])\n",
    "X = np.vstack((X_n, X_p))\n",
    "print(\"Shape of X:\", X.shape)\n",
    "\n",
    "# store data into array, where each element is [(0 or 1), (2d array of image)]\n",
    "df = []\n",
    "for i in range(2000):\n",
    "    # first 1000 images are negative, and remaining 1000 images are positive\n",
    "    if i < 1000:\n",
    "        df.append([0, X[i]])\n",
    "    else:\n",
    "        df.append([1, X[i]])\n",
    "\n",
    "# shuffle\n",
    "np.random.shuffle(df)\n",
    "print(\"Lenght of df:\", len(df))\n",
    "print(\"First element in df:\\n\", df[0])"
   ]
  },
  {
   "cell_type": "code",
   "execution_count": null,
   "metadata": {},
   "outputs": [],
   "source": []
  },
  {
   "cell_type": "code",
   "execution_count": null,
   "metadata": {},
   "outputs": [],
   "source": [
    "X_train, X_remain, y_n_train, y_n_remain = train_test_split(X_n, y_n, test_size=0.4, random_state=42)\n",
    "X_n_cv, X_n_test, y_n_cv, y_n_test = train_test_split(X_n_remain, y_n_remain, test_size=0.5, random_state=42)"
   ]
  },
  {
   "attachments": {},
   "cell_type": "markdown",
   "metadata": {},
   "source": [
    "Split training data 60-20-20 (train, cv, test)"
   ]
  },
  {
   "cell_type": "code",
   "execution_count": 78,
   "metadata": {},
   "outputs": [
    {
     "name": "stdout",
     "output_type": "stream",
     "text": [
      "X negative training: 600\n",
      "y negative training: 600\n",
      "X negative cv: 200\n",
      "y negative cv: 200\n",
      "X negative test: 200\n",
      "y negative test: 200\n",
      "\n",
      "X positive training: 600\n",
      "y positive training: 600\n",
      "X positive cv: 200\n",
      "y positive cv: 200\n",
      "X positive test: 200\n",
      "y positive test: 200\n"
     ]
    }
   ],
   "source": [
    "# split negative samples\n",
    "X_n_train, X_n_remain, y_n_train, y_n_remain = train_test_split(X_n, y_n, test_size=0.4, random_state=42)\n",
    "X_n_cv, X_n_test, y_n_cv, y_n_test = train_test_split(X_n_remain, y_n_remain, test_size=0.5, random_state=42)\n",
    "# split positive samples\n",
    "X_p_train, X_p_remain, y_p_train, y_p_remain = train_test_split(X_p, y_p, test_size=0.4, random_state=42)\n",
    "X_p_cv, X_p_test, y_p_cv, y_p_test = train_test_split(X_p_remain, y_p_remain, test_size=0.5, random_state=42)\n",
    "\n",
    "print(\"X negative training:\", X_n_train.shape[0])\n",
    "print(\"y negative training:\", len(y_n_train))\n",
    "print(\"X negative cv:\", X_n_cv.shape[0])\n",
    "print(\"y negative cv:\", len(y_n_cv))\n",
    "print(\"X negative test:\", X_n_test.shape[0])\n",
    "print(\"y negative test:\", len(y_n_test))\n",
    "print()\n",
    "print(\"X positive training:\", X_p_train.shape[0])\n",
    "print(\"y positive training:\", len(y_p_train))\n",
    "print(\"X positive cv:\", X_p_cv.shape[0])\n",
    "print(\"y positive cv:\", len(y_p_cv))\n",
    "print(\"X positive test:\", X_p_test.shape[0])\n",
    "print(\"y positive test:\", len(y_p_test))"
   ]
  },
  {
   "cell_type": "code",
   "execution_count": null,
   "metadata": {},
   "outputs": [],
   "source": [
    "[ [0, image], [1, image], [0, image] ]\n",
    "# store like this and shuffle"
   ]
  },
  {
   "cell_type": "code",
   "execution_count": null,
   "metadata": {},
   "outputs": [],
   "source": [
    "model = Sequential(\n",
    "    [\n",
    "        tf.keras.Input(shape=(128,128)),\n",
    "        \n",
    "        Dense\n",
    "    ]\n",
    ")"
   ]
  }
 ],
 "metadata": {
  "kernelspec": {
   "display_name": "Python 3 (ipykernel)",
   "language": "python",
   "name": "python3"
  },
  "language_info": {
   "codemirror_mode": {
    "name": "ipython",
    "version": 3
   },
   "file_extension": ".py",
   "mimetype": "text/x-python",
   "name": "python",
   "nbconvert_exporter": "python",
   "pygments_lexer": "ipython3",
   "version": "3.9.5"
  }
 },
 "nbformat": 4,
 "nbformat_minor": 2
}
