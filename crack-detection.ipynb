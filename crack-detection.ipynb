{
 "cells": [
  {
   "cell_type": "code",
   "execution_count": 25,
   "metadata": {},
   "outputs": [],
   "source": [
    "import pandas as pd\n",
    "import os\n",
    "import resource\n",
    "import random\n",
    "import numpy as np\n",
    "import matplotlib as plt\n",
    "from PIL import Image"
   ]
  },
  {
   "attachments": {},
   "cell_type": "markdown",
   "metadata": {},
   "source": [
    "The dataset has 2 folders, each with 15,000 images. We need to increase the maximum number of open files."
   ]
  },
  {
   "cell_type": "code",
   "execution_count": 27,
   "metadata": {},
   "outputs": [
    {
     "ename": "OSError",
     "evalue": "[Errno 24] Too many open files: 'data/Negative'",
     "output_type": "error",
     "traceback": [
      "\u001b[0;31m---------------------------------------------------------------------------\u001b[0m",
      "\u001b[0;31mOSError\u001b[0m                                   Traceback (most recent call last)",
      "Cell \u001b[0;32mIn[27], line 5\u001b[0m\n\u001b[1;32m      2\u001b[0m directory \u001b[39m=\u001b[39m \u001b[39m'\u001b[39m\u001b[39mdata/Negative\u001b[39m\u001b[39m'\u001b[39m\n\u001b[1;32m      4\u001b[0m \u001b[39m# Get a list of all the filenames in the directory\u001b[39;00m\n\u001b[0;32m----> 5\u001b[0m filenames \u001b[39m=\u001b[39m os\u001b[39m.\u001b[39;49mlistdir(directory)\n\u001b[1;32m      7\u001b[0m \u001b[39m# Randomly select 1000 filenames from the list\u001b[39;00m\n\u001b[1;32m      8\u001b[0m sample_filenames \u001b[39m=\u001b[39m random\u001b[39m.\u001b[39msample(filenames, \u001b[39m1000\u001b[39m)\n",
      "\u001b[0;31mOSError\u001b[0m: [Errno 24] Too many open files: 'data/Negative'"
     ]
    }
   ],
   "source": [
    "# Set the directory path\n",
    "directory = 'data/Negative'\n",
    "\n",
    "# Get a list of all the filenames in the directory\n",
    "filenames = os.listdir(directory)\n",
    "\n",
    "# Randomly select 1000 filenames from the list\n",
    "sample_filenames = random.sample(filenames, 1000)\n",
    "\n",
    "# Create an empty list to store the images\n",
    "images = []\n",
    "\n",
    "# Iterate over the sample filenames and load each image\n",
    "for filename in sample_filenames:\n",
    "    # Load the image file\n",
    "    img = Image.open(os.path.join(directory, filename))\n",
    "\n",
    "    # Append the image to the list\n",
    "    images.append(img)"
   ]
  },
  {
   "cell_type": "code",
   "execution_count": null,
   "metadata": {},
   "outputs": [],
   "source": []
  }
 ],
 "metadata": {
  "kernelspec": {
   "display_name": "Python 3",
   "language": "python",
   "name": "python3"
  },
  "language_info": {
   "codemirror_mode": {
    "name": "ipython",
    "version": 3
   },
   "file_extension": ".py",
   "mimetype": "text/x-python",
   "name": "python",
   "nbconvert_exporter": "python",
   "pygments_lexer": "ipython3",
   "version": "3.9.5"
  },
  "orig_nbformat": 4
 },
 "nbformat": 4,
 "nbformat_minor": 2
}
