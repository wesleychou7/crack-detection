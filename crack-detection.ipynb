{
 "cells": [
  {
   "cell_type": "code",
   "execution_count": 243,
   "metadata": {},
   "outputs": [],
   "source": [
    "import os\n",
    "import random\n",
    "import numpy as np\n",
    "import matplotlib.pyplot as plt\n",
    "import tensorflow as tf\n",
    "from tensorflow import keras\n",
    "from keras.models import Sequential\n",
    "from keras.layers import Flatten, Dense\n",
    "from keras.activations import linear, relu, sigmoid\n",
    "from sklearn.model_selection import train_test_split\n",
    "from PIL import Image, ImageOps\n",
    "from IPython.display import display"
   ]
  },
  {
   "cell_type": "code",
   "execution_count": 218,
   "metadata": {},
   "outputs": [],
   "source": [
    "SIZE = (64, 64)"
   ]
  },
  {
   "attachments": {},
   "cell_type": "markdown",
   "metadata": {},
   "source": [
    "Original dataset consists of two folders, each with 15,000 images. I used the `ulimit -n` and `ls | shuf -n 1000 | xargs -I {} cp \"{}\" ~target/` command to randomly pick 1000 images from each folder. They are stored in `negative-samples` and `positive-samples`"
   ]
  },
  {
   "cell_type": "code",
   "execution_count": 219,
   "metadata": {},
   "outputs": [],
   "source": [
    "d1, d2 = 'data/negative-samples', 'data/positive-samples'\n",
    "negative_images, positive_images = [], []\n",
    "\n",
    "filenames1 = os.listdir(d1)\n",
    "for filename in filenames1:\n",
    "    \n",
    "    if filename.endswith(\".jpg\"):\n",
    "            \n",
    "            img = Image.open(os.path.join(d1, filename))\n",
    "            \n",
    "            # resize image to 128x128 pixels\n",
    "            img = ImageOps.fit(img, SIZE, method=Image.LANCZOS)\n",
    "            # grayscale image\n",
    "            img = ImageOps.grayscale(img)\n",
    "            \n",
    "            negative_images.append(img)\n",
    "\n",
    "filenames2 = os.listdir(d2)\n",
    "for filename in filenames2:\n",
    "    \n",
    "    if filename.endswith(\".jpg\"):\n",
    "            \n",
    "            img = Image.open(os.path.join(d2, filename))\n",
    "            img = ImageOps.fit(img, SIZE, method=Image.LANCZOS)\n",
    "            img = ImageOps.grayscale(img)\n",
    "            \n",
    "            positive_images.append(img)"
   ]
  },
  {
   "cell_type": "code",
   "execution_count": 220,
   "metadata": {},
   "outputs": [
    {
     "name": "stdout",
     "output_type": "stream",
     "text": [
      "1000\n",
      "1000\n"
     ]
    }
   ],
   "source": [
    "print(len(negative_images))\n",
    "print(len(positive_images))"
   ]
  },
  {
   "cell_type": "code",
   "execution_count": 221,
   "metadata": {},
   "outputs": [],
   "source": [
    "# shuffle the images\n",
    "random.shuffle(negative_images)\n",
    "random.shuffle(positive_images)"
   ]
  },
  {
   "cell_type": "code",
   "execution_count": 223,
   "metadata": {},
   "outputs": [
    {
     "data": {
      "image/png": "[encoded data removed]",
      "text/plain": [
       "<PIL.Image.Image image mode=L size=64x64>"
      ]
     },
     "metadata": {},
     "output_type": "display_data"
    },
    {
     "data": {
      "image/png": "[encoded data removed]",
      "text/plain": [
       "<PIL.Image.Image image mode=L size=64x64>"
      ]
     },
     "metadata": {},
     "output_type": "display_data"
    }
   ],
   "source": [
    "display(negative_images[0])     # first negative example\n",
    "display(positive_images[0])     # first positive example"
   ]
  },
  {
   "cell_type": "markdown",
   "metadata": {},
   "source": [
    "Now we turn these images into numpy arrays."
   ]
  },
  {
   "cell_type": "code",
   "execution_count": 224,
   "metadata": {},
   "outputs": [
    {
     "name": "stdout",
     "output_type": "stream",
     "text": [
      "Shape of X: (2000, 64, 64)\n",
      "Lenght of df: 2000\n",
      "First element in df:\n",
      " [0, array([[115, 115, 121, ..., 109, 107, 104],\n",
      "       [124, 118, 120, ..., 108, 108, 112],\n",
      "       [122, 120, 119, ..., 106, 111, 115],\n",
      "       ...,\n",
      "       [130, 119, 116, ..., 120, 116, 120],\n",
      "       [128, 127, 115, ..., 105, 120, 121],\n",
      "       [120, 122, 124, ..., 110, 114, 122]], dtype=uint8)]\n"
     ]
    }
   ],
   "source": [
    "X_n = np.stack([np.array(img) for img in negative_images])\n",
    "X_p = np.stack([np.array(img2) for img2 in positive_images])\n",
    "X = np.vstack((X_n, X_p))\n",
    "print(\"Shape of X:\", X.shape)\n",
    "\n",
    "# store data into array, where each element is [(0 or 1), (2d array of image)]\n",
    "df = []\n",
    "for i in range(2000):\n",
    "    # first 1000 images are negative, and remaining 1000 images are positive\n",
    "    if i < 1000:\n",
    "        df.append([0, X[i]])\n",
    "    else:\n",
    "        df.append([1, X[i]])\n",
    "\n",
    "# shuffle\n",
    "np.random.shuffle(df)\n",
    "print(\"Lenght of df:\", len(df))\n",
    "print(\"First element in df:\\n\", df[0])"
   ]
  },
  {
   "cell_type": "code",
   "execution_count": 238,
   "metadata": {},
   "outputs": [
    {
     "name": "stdout",
     "output_type": "stream",
     "text": [
      "X[0]= [[174. 170. 205. ... 207. 208. 207.]\n",
      " [174. 176. 206. ... 208. 208. 207.]\n",
      " [195. 172. 192. ... 207. 207. 207.]\n",
      " ...\n",
      " [207. 207. 207. ... 207. 207. 207.]\n",
      " [207. 207. 207. ... 207. 208. 207.]\n",
      " [208. 208. 208. ... 207. 208. 208.]]    shape: (64, 64)\n",
      "y[0]= 1.0\n"
     ]
    },
    {
     "data": {
      "text/plain": [
       "<matplotlib.colorbar.Colorbar at 0x7f82d6b9eeb0>"
      ]
     },
     "execution_count": 238,
     "metadata": {},
     "output_type": "execute_result"
    },
    {
     "data": {
      "image/png": "[encoded data removed]",
      "text/plain": [
       "<Figure size 640x480 with 2 Axes>"
      ]
     },
     "metadata": {},
     "output_type": "display_data"
    }
   ],
   "source": [
    "# separate df into X and y\n",
    "\n",
    "X = np.zeros((2000, SIZE[0], SIZE[1]))\n",
    "y = np.zeros((2000,))\n",
    "\n",
    "for i in range(2000):\n",
    "    y[i] = df[i][0]\n",
    "    X[i] = df[i][1]\n",
    "\n",
    "# take a look at sample 1\n",
    "print(\"X[0]=\", X[1], \"   shape:\", X[1].shape)\n",
    "print(\"y[0]=\", y[1])\n",
    "plt.imshow(X[1])\n",
    "plt.colorbar()"
   ]
  },
  {
   "attachments": {},
   "cell_type": "markdown",
   "metadata": {},
   "source": [
    "Scale the pixel values before training"
   ]
  },
  {
   "cell_type": "code",
   "execution_count": 239,
   "metadata": {},
   "outputs": [
    {
     "data": {
      "text/plain": [
       "<matplotlib.colorbar.Colorbar at 0x7f82d5f88190>"
      ]
     },
     "execution_count": 239,
     "metadata": {},
     "output_type": "execute_result"
    },
    {
     "data": {
      "image/png": "[encoded data removed]",
      "text/plain": [
       "<Figure size 640x480 with 2 Axes>"
      ]
     },
     "metadata": {},
     "output_type": "display_data"
    }
   ],
   "source": [
    "# scale pixel values\n",
    "X = X / 255.0\n",
    "\n",
    "plt.imshow(X[1])\n",
    "plt.colorbar()"
   ]
  },
  {
   "attachments": {},
   "cell_type": "markdown",
   "metadata": {},
   "source": [
    "Split training data 60-20-20 (train, cv, test)"
   ]
  },
  {
   "cell_type": "code",
   "execution_count": 240,
   "metadata": {},
   "outputs": [
    {
     "name": "stdout",
     "output_type": "stream",
     "text": [
      "Dataset shapes: \n",
      "\n",
      "X train: (1200, 64, 64)\n",
      "y train: (1200,)\n",
      "X cv: (400, 64, 64)\n",
      "y cv: (400,)\n",
      "X test: (400, 64, 64)\n",
      "y test: (400,)\n"
     ]
    }
   ],
   "source": [
    "X_train, X_, y_train, y_ = train_test_split(X, y, test_size=0.4, random_state=42)\n",
    "X_cv, X_test, y_cv, y_test = train_test_split(X_, y_, test_size=0.5, random_state=42)\n",
    "print(\"Dataset shapes: \\n\")\n",
    "print(\"X train:\", X_train.shape)\n",
    "print(\"y train:\", y_train.shape)\n",
    "print(\"X cv:\", X_cv.shape)\n",
    "print(\"y cv:\", y_cv.shape)\n",
    "print(\"X test:\", X_test.shape)\n",
    "print(\"y test:\", y_test.shape)"
   ]
  },
  {
   "cell_type": "code",
   "execution_count": 251,
   "metadata": {},
   "outputs": [
    {
     "name": "stdout",
     "output_type": "stream",
     "text": [
      "Model: \"mymodel\"\n",
      "_________________________________________________________________\n",
      " Layer (type)                Output Shape              Param #   \n",
      "=================================================================\n",
      " flatten_3 (Flatten)         (None, 4096)              0         \n",
      "                                                                 \n",
      " layer1 (Dense)              (None, 64)                262208    \n",
      "                                                                 \n",
      " layer2 (Dense)              (None, 16)                1040      \n",
      "                                                                 \n",
      " layer3 (Dense)              (None, 1)                 17        \n",
      "                                                                 \n",
      "=================================================================\n",
      "Total params: 263,265\n",
      "Trainable params: 263,265\n",
      "Non-trainable params: 0\n",
      "_________________________________________________________________\n"
     ]
    }
   ],
   "source": [
    "tf.random.set_seed(42)\n",
    "model = Sequential(\n",
    "    [\n",
    "        Flatten(input_shape=SIZE),\n",
    "        Dense(64, activation='relu', name='layer1'),\n",
    "        Dense(16, activation='relu', name='layer2'),\n",
    "        Dense(1, activation='sigmoid', name='layer3'),\n",
    "    ], name = \"mymodel\"\n",
    ")\n",
    "model.summary()"
   ]
  },
  {
   "cell_type": "code",
   "execution_count": 258,
   "metadata": {},
   "outputs": [
    {
     "name": "stdout",
     "output_type": "stream",
     "text": [
      "Epoch 1/10\n",
      "38/38 [==============================] - 1s 3ms/step - loss: 0.5356 - accuracy: 0.7217\n",
      "Epoch 2/10\n",
      "38/38 [==============================] - 0s 3ms/step - loss: 0.4939 - accuracy: 0.7625\n",
      "Epoch 3/10\n",
      "38/38 [==============================] - 0s 3ms/step - loss: 0.4873 - accuracy: 0.7717\n",
      "Epoch 4/10\n",
      "38/38 [==============================] - 0s 3ms/step - loss: 0.4728 - accuracy: 0.7733\n",
      "Epoch 5/10\n",
      "38/38 [==============================] - 0s 3ms/step - loss: 0.4469 - accuracy: 0.8067\n",
      "Epoch 6/10\n",
      "38/38 [==============================] - 0s 3ms/step - loss: 0.4399 - accuracy: 0.8042\n",
      "Epoch 7/10\n",
      "38/38 [==============================] - 0s 2ms/step - loss: 0.4473 - accuracy: 0.8000\n",
      "Epoch 8/10\n",
      "38/38 [==============================] - 0s 3ms/step - loss: 0.4613 - accuracy: 0.7867\n",
      "Epoch 9/10\n",
      "38/38 [==============================] - 0s 3ms/step - loss: 0.4993 - accuracy: 0.7533\n",
      "Epoch 10/10\n",
      "38/38 [==============================] - 0s 3ms/step - loss: 0.4877 - accuracy: 0.7675\n"
     ]
    }
   ],
   "source": [
    "model.compile(\n",
    "    loss = tf.keras.losses.BinaryCrossentropy(),\n",
    "    optimizer = tf.keras.optimizers.Adam(learning_rate=0.001),\n",
    "    metrics=['accuracy']\n",
    ")\n",
    "\n",
    "history = model.fit(X_train, y_train, epochs=10)"
   ]
  },
  {
   "attachments": {},
   "cell_type": "markdown",
   "metadata": {},
   "source": [
    "Evaluate model with cross-validation dataset"
   ]
  },
  {
   "cell_type": "code",
   "execution_count": 259,
   "metadata": {},
   "outputs": [
    {
     "name": "stdout",
     "output_type": "stream",
     "text": [
      "13/13 - 0s - loss: 0.4889 - accuracy: 0.7850 - 164ms/epoch - 13ms/step\n"
     ]
    }
   ],
   "source": [
    "cv_loss, cv_acc = model.evaluate(X_cv, y_cv, verbose=2)"
   ]
  },
  {
   "cell_type": "code",
   "execution_count": null,
   "metadata": {},
   "outputs": [],
   "source": []
  },
  {
   "attachments": {},
   "cell_type": "markdown",
   "metadata": {},
   "source": [
    "Ways to improve model:\n",
    "\n",
    "- add/remove layers, increase/decrease neurons\n",
    "- regularization like L1 or L2\n",
    "- increase/decrease training data\n",
    "- tuning hyperparameters like learning rate or batch size"
   ]
  },
  {
   "cell_type": "markdown",
   "metadata": {},
   "source": []
  }
 ],
 "metadata": {
  "kernelspec": {
   "display_name": "Python 3 (ipykernel)",
   "language": "python",
   "name": "python3"
  },
  "language_info": {
   "codemirror_mode": {
    "name": "ipython",
    "version": 3
   },
   "file_extension": ".py",
   "mimetype": "text/x-python",
   "name": "python",
   "nbconvert_exporter": "python",
   "pygments_lexer": "ipython3",
   "version": "3.9.5"
  }
 },
 "nbformat": 4,
 "nbformat_minor": 2
}
